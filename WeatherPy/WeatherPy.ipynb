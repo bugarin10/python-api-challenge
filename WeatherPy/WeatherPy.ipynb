{
 "cells": [
  {
   "cell_type": "markdown",
   "metadata": {},
   "source": [
    "# WeatherPy\n",
    "----\n",
    "\n",
    "#### Note\n",
    "* Instructions have been included for each segment. You do not have to follow them exactly, but they are included to help you think through the steps."
   ]
  },
  {
   "cell_type": "code",
   "execution_count": 1,
   "metadata": {
    "scrolled": true
   },
   "outputs": [],
   "source": [
    "# Dependencies and Setup\n",
    "import matplotlib.pyplot as plt\n",
    "import pandas as pd\n",
    "import numpy as np\n",
    "import requests\n",
    "from pprint import pprint\n",
    "import time\n",
    "from scipy.stats import linregress\n",
    "\n",
    "# Import API key\n",
    "from api_keys import weather_api_key\n",
    "\n",
    "# Incorporated citipy to determine city based on latitude and longitude\n",
    "from citipy import citipy\n",
    "\n",
    "# Output File (CSV)\n",
    "output_data_file = \"output_data/cities.csv\"\n",
    "\n",
    "# Range of latitudes and longitudes\n",
    "lat_range = (-90, 90)\n",
    "lng_range = (-180, 180)"
   ]
  },
  {
   "cell_type": "markdown",
   "metadata": {},
   "source": [
    "## Generate Cities List"
   ]
  },
  {
   "cell_type": "code",
   "execution_count": 2,
   "metadata": {},
   "outputs": [
    {
     "data": {
      "text/plain": [
       "618"
      ]
     },
     "execution_count": 2,
     "metadata": {},
     "output_type": "execute_result"
    }
   ],
   "source": [
    "# List for holding lat_lngs and cities\n",
    "lat_lngs = []\n",
    "cities = []\n",
    "\n",
    "# Create a set of random lat and lng combinations\n",
    "lats = np.random.uniform(lat_range[0], lat_range[1], size=1500)\n",
    "lngs = np.random.uniform(lng_range[0], lng_range[1], size=1500)\n",
    "lat_lngs = zip(lats, lngs)\n",
    "\n",
    "# Identify nearest city for each lat, lng combination\n",
    "for lat_lng in lat_lngs:\n",
    "    city = citipy.nearest_city(lat_lng[0], lat_lng[1]).city_name\n",
    "    \n",
    "    # If the city is unique, then add it to a our cities list\n",
    "    if city not in cities:\n",
    "        cities.append(city)\n",
    "\n",
    "# Print the city count to confirm sufficient count\n",
    "len(cities)"
   ]
  },
  {
   "cell_type": "markdown",
   "metadata": {},
   "source": [
    "### Perform API Calls\n",
    "* Perform a weather check on each city using a series of successive API calls.\n",
    "* Include a print log of each city as it'sbeing processed (with the city number and city name).\n"
   ]
  },
  {
   "cell_type": "code",
   "execution_count": 27,
   "metadata": {
    "scrolled": true
   },
   "outputs": [
    {
     "name": "stdout",
     "output_type": "stream",
     "text": [
      "Beginning Data Retrieval\n",
      "____________________\n",
      "Processing Record 1 of Set 1 | albany\n",
      "Processing Record 2 of Set 1 | sinnamary\n",
      "Processing Record 3 of Set 1 | rosario oeste\n",
      "Processing Record 4 of Set 1 | port lincoln\n",
      "Processing Record 5 of Set 1 | ulladulla\n",
      "Processing Record 6 of Set 1 | copperas cove\n",
      "Processing Record 7 of Set 1 | bethel\n",
      "Processing Record 8 of Set 1 | bathsheba\n",
      "Processing Record 9 of Set 1 | kokopo\n",
      "Processing Record 10 of Set 1 | urdzhar\n",
      "City not found skipping\n",
      "Processing Record 11 of Set 1 | saskylakh\n",
      "Processing Record 12 of Set 1 | vaini\n",
      "Processing Record 13 of Set 1 | barentsburg\n",
      "City not found skipping\n",
      "Processing Record 14 of Set 1 | tarko-sale\n",
      "Processing Record 15 of Set 1 | goba\n",
      "Processing Record 16 of Set 1 | tasiilaq\n",
      "Processing Record 17 of Set 1 | alice springs\n",
      "Processing Record 18 of Set 1 | pangkalanbuun\n",
      "Processing Record 19 of Set 1 | avarua\n",
      "Processing Record 20 of Set 1 | yar-sale\n",
      "Processing Record 21 of Set 1 | presidente medici\n",
      "Processing Record 22 of Set 1 | taolanaro\n",
      "City not found skipping\n",
      "Processing Record 23 of Set 1 | hilo\n",
      "Processing Record 24 of Set 1 | busselton\n",
      "Processing Record 25 of Set 1 | jerome\n",
      "Processing Record 26 of Set 1 | upernavik\n",
      "Processing Record 27 of Set 1 | atuona\n",
      "Processing Record 28 of Set 1 | mys shmidta\n",
      "City not found skipping\n",
      "Processing Record 29 of Set 1 | ilo\n",
      "Processing Record 30 of Set 1 | kapaa\n",
      "Processing Record 31 of Set 1 | jamestown\n",
      "Processing Record 32 of Set 1 | tuktoyaktuk\n",
      "Processing Record 33 of Set 1 | sechura\n",
      "Processing Record 34 of Set 1 | atar\n",
      "Processing Record 35 of Set 1 | belushya guba\n",
      "City not found skipping\n",
      "Processing Record 36 of Set 1 | grand island\n",
      "Processing Record 37 of Set 1 | freeport\n",
      "Processing Record 38 of Set 1 | shingu\n",
      "Processing Record 39 of Set 1 | xianyang\n",
      "Processing Record 40 of Set 1 | punta arenas\n",
      "Processing Record 41 of Set 1 | illoqqortoormiut\n",
      "City not found skipping\n",
      "Processing Record 42 of Set 1 | abu samrah\n",
      "Processing Record 43 of Set 1 | shangrao\n",
      "Processing Record 44 of Set 1 | mar del plata\n",
      "Processing Record 45 of Set 1 | fortuna\n",
      "Processing Record 46 of Set 1 | great yarmouth\n",
      "Processing Record 47 of Set 1 | ushuaia\n",
      "Processing Record 48 of Set 1 | quatre cocos\n",
      "Processing Record 49 of Set 1 | barrow\n",
      "Processing Record 1 of Set 2 | yellowknife\n",
      "Processing Record 2 of Set 2 | mancora\n",
      "Processing Record 3 of Set 2 | kodiak\n",
      "Processing Record 4 of Set 2 | graaff-reinet\n",
      "Processing Record 5 of Set 2 | amapa\n",
      "Processing Record 6 of Set 2 | meadow lake\n",
      "Processing Record 7 of Set 2 | qaanaaq\n",
      "Processing Record 8 of Set 2 | attawapiskat\n",
      "City not found skipping\n",
      "Processing Record 9 of Set 2 | rikitea\n",
      "Processing Record 10 of Set 2 | martinsicuro\n",
      "Processing Record 11 of Set 2 | taoudenni\n",
      "Processing Record 12 of Set 2 | calabozo\n",
      "Processing Record 13 of Set 2 | torbay\n",
      "Processing Record 14 of Set 2 | arraial do cabo\n",
      "Processing Record 15 of Set 2 | kagalnik\n",
      "Processing Record 16 of Set 2 | bredasdorp\n",
      "Processing Record 17 of Set 2 | lebu\n",
      "Processing Record 18 of Set 2 | rio gallegos\n",
      "Processing Record 19 of Set 2 | toliary\n",
      "City not found skipping\n",
      "Processing Record 20 of Set 2 | vanavara\n",
      "Processing Record 21 of Set 2 | hobart\n",
      "Processing Record 22 of Set 2 | myski\n",
      "Processing Record 23 of Set 2 | seoul\n",
      "Processing Record 24 of Set 2 | santa maria da vitoria\n",
      "Processing Record 25 of Set 2 | teresita\n",
      "Processing Record 26 of Set 2 | cherskiy\n",
      "Processing Record 27 of Set 2 | new norfolk\n",
      "Processing Record 28 of Set 2 | karaul\n",
      "City not found skipping\n",
      "Processing Record 29 of Set 2 | banja luka\n",
      "Processing Record 30 of Set 2 | burnie\n",
      "Processing Record 31 of Set 2 | dikson\n",
      "Processing Record 32 of Set 2 | creel\n",
      "Processing Record 33 of Set 2 | tahta\n",
      "Processing Record 34 of Set 2 | carnarvon\n",
      "Processing Record 35 of Set 2 | indianola\n",
      "Processing Record 36 of Set 2 | obuasi\n",
      "Processing Record 37 of Set 2 | ibra\n",
      "Processing Record 38 of Set 2 | nguiu\n",
      "City not found skipping\n",
      "Processing Record 39 of Set 2 | sentyabrskiy\n",
      "City not found skipping\n",
      "Processing Record 40 of Set 2 | liverpool\n",
      "Processing Record 41 of Set 2 | mahebourg\n",
      "Processing Record 42 of Set 2 | nikolskoye\n",
      "Processing Record 43 of Set 2 | san ramon\n",
      "Processing Record 44 of Set 2 | alexander city\n",
      "Processing Record 45 of Set 2 | codrington\n",
      "Processing Record 46 of Set 2 | esperance\n",
      "Processing Record 47 of Set 2 | muros\n",
      "Processing Record 48 of Set 2 | sambava\n",
      "Processing Record 49 of Set 2 | coquimbo\n",
      "Processing Record 1 of Set 3 | aklavik\n",
      "Processing Record 2 of Set 3 | hobyo\n",
      "Processing Record 3 of Set 3 | mataura\n",
      "Processing Record 4 of Set 3 | butaritari\n",
      "Processing Record 5 of Set 3 | khatanga\n",
      "Processing Record 6 of Set 3 | odienne\n",
      "Processing Record 7 of Set 3 | abashiri\n",
      "Processing Record 8 of Set 3 | la ronge\n",
      "Processing Record 9 of Set 3 | rawlins\n",
      "Processing Record 10 of Set 3 | vaitupu\n",
      "City not found skipping\n",
      "Processing Record 11 of Set 3 | thompson\n",
      "Processing Record 12 of Set 3 | hithadhoo\n",
      "Processing Record 13 of Set 3 | touros\n",
      "Processing Record 14 of Set 3 | victoria\n",
      "Processing Record 15 of Set 3 | samarai\n",
      "Processing Record 16 of Set 3 | port elizabeth\n",
      "Processing Record 17 of Set 3 | lashio\n",
      "Processing Record 18 of Set 3 | tiksi\n",
      "Processing Record 19 of Set 3 | vila velha\n",
      "Processing Record 20 of Set 3 | richards bay\n",
      "Processing Record 21 of Set 3 | norman wells\n",
      "Processing Record 22 of Set 3 | salinas\n",
      "Processing Record 23 of Set 3 | georgetown\n",
      "Processing Record 24 of Set 3 | olafsvik\n",
      "Processing Record 25 of Set 3 | esmeraldas\n",
      "Processing Record 26 of Set 3 | marcona\n",
      "City not found skipping\n",
      "Processing Record 27 of Set 3 | san matias\n",
      "Processing Record 28 of Set 3 | bani walid\n",
      "Processing Record 29 of Set 3 | panaba\n",
      "Processing Record 30 of Set 3 | lorengau\n",
      "Processing Record 31 of Set 3 | puerto ayora\n",
      "Processing Record 32 of Set 3 | lukulu\n",
      "Processing Record 33 of Set 3 | torit\n",
      "Processing Record 34 of Set 3 | los llanos de aridane\n",
      "Processing Record 35 of Set 3 | kaka\n",
      "Processing Record 36 of Set 3 | merauke\n",
      "Processing Record 37 of Set 3 | ustyuzhna\n",
      "Processing Record 38 of Set 3 | hermanus\n",
      "Processing Record 39 of Set 3 | siruguppa\n",
      "Processing Record 40 of Set 3 | qingdao\n",
      "Processing Record 41 of Set 3 | kyzyl-suu\n",
      "Processing Record 42 of Set 3 | chase\n",
      "Processing Record 43 of Set 3 | bluff\n",
      "Processing Record 44 of Set 3 | namibe\n",
      "Processing Record 45 of Set 3 | caravelas\n",
      "Processing Record 46 of Set 3 | shimoda\n",
      "Processing Record 47 of Set 3 | ishigaki\n",
      "Processing Record 48 of Set 3 | maceio\n",
      "Processing Record 49 of Set 3 | pacific grove\n",
      "Processing Record 1 of Set 4 | izumo\n",
      "Processing Record 2 of Set 4 | ushumun\n",
      "Processing Record 3 of Set 4 | kamenskoye\n",
      "City not found skipping\n",
      "Processing Record 4 of Set 4 | dawson creek\n",
      "Processing Record 5 of Set 4 | bocas del toro\n",
      "Processing Record 6 of Set 4 | krasnoselkup\n",
      "Processing Record 7 of Set 4 | yangjiang\n",
      "Processing Record 8 of Set 4 | lompoc\n",
      "Processing Record 9 of Set 4 | airai\n",
      "Processing Record 10 of Set 4 | sorland\n",
      "Processing Record 11 of Set 4 | ust-nera\n",
      "Processing Record 12 of Set 4 | hami\n",
      "Processing Record 13 of Set 4 | sao jose da coroa grande\n",
      "Processing Record 14 of Set 4 | nara\n",
      "Processing Record 15 of Set 4 | souillac\n",
      "Processing Record 16 of Set 4 | labuhan\n",
      "Processing Record 17 of Set 4 | aykhal\n",
      "Processing Record 18 of Set 4 | korla\n",
      "Processing Record 19 of Set 4 | tidore\n",
      "City not found skipping\n",
      "Processing Record 20 of Set 4 | hasaki\n",
      "Processing Record 21 of Set 4 | muhos\n",
      "Processing Record 22 of Set 4 | tarudant\n",
      "City not found skipping\n",
      "Processing Record 23 of Set 4 | were ilu\n",
      "Processing Record 24 of Set 4 | iqaluit\n",
      "Processing Record 25 of Set 4 | beyneu\n",
      "Processing Record 26 of Set 4 | kununurra\n",
      "Processing Record 27 of Set 4 | cidreira\n",
      "Processing Record 28 of Set 4 | manokwari\n",
      "Processing Record 29 of Set 4 | constitucion\n",
      "Processing Record 30 of Set 4 | ahipara\n",
      "Processing Record 31 of Set 4 | sassandra\n",
      "Processing Record 32 of Set 4 | bom jardim\n",
      "Processing Record 33 of Set 4 | kagal\n",
      "Processing Record 34 of Set 4 | kuching\n",
      "Processing Record 35 of Set 4 | katsuura\n",
      "Processing Record 36 of Set 4 | port alfred\n",
      "Processing Record 37 of Set 4 | umzimvubu\n",
      "City not found skipping\n",
      "Processing Record 38 of Set 4 | bud\n",
      "Processing Record 39 of Set 4 | aguimes\n",
      "Processing Record 40 of Set 4 | cape town\n",
      "Processing Record 41 of Set 4 | corat\n"
     ]
    },
    {
     "name": "stdout",
     "output_type": "stream",
     "text": [
      "Processing Record 42 of Set 4 | sampit\n",
      "Processing Record 43 of Set 4 | harper\n",
      "Processing Record 44 of Set 4 | sinjar\n",
      "Processing Record 45 of Set 4 | altoona\n",
      "Processing Record 46 of Set 4 | rawson\n",
      "Processing Record 47 of Set 4 | eureka\n",
      "Processing Record 48 of Set 4 | pacifica\n",
      "Processing Record 49 of Set 4 | saint-philippe\n",
      "Processing Record 1 of Set 5 | sur\n",
      "Processing Record 2 of Set 5 | asyut\n",
      "Processing Record 3 of Set 5 | isangel\n",
      "Processing Record 4 of Set 5 | safford\n",
      "Processing Record 5 of Set 5 | koboldo\n",
      "City not found skipping\n",
      "Processing Record 6 of Set 5 | sumbawa\n",
      "City not found skipping\n",
      "Processing Record 7 of Set 5 | chokurdakh\n",
      "Processing Record 8 of Set 5 | dickinson\n",
      "Processing Record 9 of Set 5 | ribeira grande\n",
      "Processing Record 10 of Set 5 | marystown\n",
      "Processing Record 11 of Set 5 | gokak\n",
      "Processing Record 12 of Set 5 | sananduva\n",
      "Processing Record 13 of Set 5 | pochutla\n",
      "Processing Record 14 of Set 5 | zhangye\n",
      "Processing Record 15 of Set 5 | looc\n",
      "Processing Record 16 of Set 5 | puerto leguizamo\n",
      "Processing Record 17 of Set 5 | dolbeau\n",
      "City not found skipping\n",
      "Processing Record 18 of Set 5 | highlands ranch\n",
      "Processing Record 19 of Set 5 | maniitsoq\n",
      "Processing Record 20 of Set 5 | roma\n",
      "Processing Record 21 of Set 5 | znamenskoye\n",
      "Processing Record 22 of Set 5 | nome\n",
      "Processing Record 23 of Set 5 | svetlaya\n",
      "Processing Record 24 of Set 5 | nadbai\n",
      "Processing Record 25 of Set 5 | longyearbyen\n",
      "Processing Record 26 of Set 5 | kavieng\n",
      "Processing Record 27 of Set 5 | barreirinhas\n",
      "Processing Record 28 of Set 5 | picui\n",
      "Processing Record 29 of Set 5 | vung tau\n",
      "Processing Record 30 of Set 5 | aras\n",
      "Processing Record 31 of Set 5 | belawan\n",
      "Processing Record 32 of Set 5 | natal\n",
      "Processing Record 33 of Set 5 | samalaeulu\n",
      "City not found skipping\n",
      "Processing Record 34 of Set 5 | arona\n",
      "Processing Record 35 of Set 5 | tapaua\n",
      "City not found skipping\n",
      "Processing Record 36 of Set 5 | trairi\n",
      "Processing Record 37 of Set 5 | muravlenko\n",
      "Processing Record 38 of Set 5 | myitkyina\n",
      "Processing Record 39 of Set 5 | tautira\n",
      "Processing Record 40 of Set 5 | marzuq\n",
      "Processing Record 41 of Set 5 | rakai\n",
      "Processing Record 42 of Set 5 | vardo\n",
      "Processing Record 43 of Set 5 | macherla\n",
      "Processing Record 44 of Set 5 | ngunguru\n",
      "Processing Record 45 of Set 5 | paamiut\n",
      "Processing Record 46 of Set 5 | kutulik\n",
      "Processing Record 47 of Set 5 | payo\n",
      "Processing Record 48 of Set 5 | padang\n",
      "Processing Record 49 of Set 5 | tsihombe\n",
      "City not found skipping\n",
      "Processing Record 1 of Set 6 | tari\n",
      "Processing Record 2 of Set 6 | amderma\n",
      "City not found skipping\n",
      "Processing Record 3 of Set 6 | ostrovnoy\n",
      "Processing Record 4 of Set 6 | porkhov\n",
      "Processing Record 5 of Set 6 | saint george\n",
      "Processing Record 6 of Set 6 | lavrentiya\n",
      "Processing Record 7 of Set 6 | sembe\n",
      "Processing Record 8 of Set 6 | riyadh\n",
      "Processing Record 9 of Set 6 | hamilton\n",
      "Processing Record 10 of Set 6 | qostanay\n",
      "Processing Record 11 of Set 6 | fort abbas\n",
      "Processing Record 12 of Set 6 | baykit\n",
      "Processing Record 13 of Set 6 | pevek\n",
      "Processing Record 14 of Set 6 | talnakh\n",
      "Processing Record 15 of Set 6 | galgani\n",
      "City not found skipping\n",
      "Processing Record 16 of Set 6 | margate\n",
      "Processing Record 17 of Set 6 | omboue\n",
      "Processing Record 18 of Set 6 | akhmim\n",
      "Processing Record 19 of Set 6 | kharan\n",
      "Processing Record 20 of Set 6 | provideniya\n",
      "Processing Record 21 of Set 6 | samusu\n",
      "City not found skipping\n",
      "Processing Record 22 of Set 6 | ilhabela\n",
      "Processing Record 23 of Set 6 | saint-joseph\n",
      "Processing Record 24 of Set 6 | nouadhibou\n",
      "Processing Record 25 of Set 6 | ponta delgada\n",
      "Processing Record 26 of Set 6 | haibowan\n",
      "City not found skipping\n",
      "Processing Record 27 of Set 6 | kingman\n",
      "Processing Record 28 of Set 6 | ixtapa\n",
      "Processing Record 29 of Set 6 | yonezawa\n",
      "Processing Record 30 of Set 6 | flinders\n",
      "Processing Record 31 of Set 6 | the valley\n",
      "Processing Record 32 of Set 6 | nemuro\n",
      "Processing Record 33 of Set 6 | tabialan\n",
      "City not found skipping\n",
      "Processing Record 34 of Set 6 | tuatapere\n",
      "Processing Record 35 of Set 6 | bandarbeyla\n",
      "Processing Record 36 of Set 6 | tabou\n",
      "Processing Record 37 of Set 6 | blackwater\n",
      "Processing Record 38 of Set 6 | emba\n",
      "Processing Record 39 of Set 6 | bubaque\n",
      "Processing Record 40 of Set 6 | stornoway\n",
      "Processing Record 41 of Set 6 | zhigansk\n",
      "Processing Record 42 of Set 6 | mayumba\n",
      "Processing Record 43 of Set 6 | gorontalo\n",
      "Processing Record 44 of Set 6 | bengkulu\n",
      "Processing Record 45 of Set 6 | geraldton\n",
      "Processing Record 46 of Set 6 | waiuku\n",
      "Processing Record 47 of Set 6 | luderitz\n",
      "Processing Record 48 of Set 6 | quimper\n",
      "Processing Record 49 of Set 6 | deputatskiy\n",
      "Processing Record 1 of Set 7 | east london\n",
      "Processing Record 2 of Set 7 | sola\n",
      "Processing Record 3 of Set 7 | san andres\n",
      "Processing Record 4 of Set 7 | boljarovo\n",
      "City not found skipping\n",
      "Processing Record 5 of Set 7 | jasper\n",
      "Processing Record 6 of Set 7 | namwala\n",
      "Processing Record 7 of Set 7 | baiyin\n",
      "Processing Record 8 of Set 7 | paita\n",
      "Processing Record 9 of Set 7 | nhulunbuy\n",
      "Processing Record 10 of Set 7 | guata\n",
      "City not found skipping\n",
      "Processing Record 11 of Set 7 | cheltenham\n",
      "Processing Record 12 of Set 7 | mandiana\n",
      "Processing Record 13 of Set 7 | trelew\n",
      "Processing Record 14 of Set 7 | lagoa\n",
      "Processing Record 15 of Set 7 | kaitangata\n",
      "Processing Record 16 of Set 7 | san patricio\n",
      "Processing Record 17 of Set 7 | hopewell\n",
      "Processing Record 18 of Set 7 | boa esperanca\n",
      "Processing Record 19 of Set 7 | reinosa\n",
      "Processing Record 20 of Set 7 | taft\n",
      "Processing Record 21 of Set 7 | berlevag\n",
      "Processing Record 22 of Set 7 | fort saint james\n",
      "Processing Record 23 of Set 7 | conway\n",
      "Processing Record 24 of Set 7 | yerbogachen\n",
      "Processing Record 25 of Set 7 | pundaguitan\n",
      "Processing Record 26 of Set 7 | tucurui\n",
      "Processing Record 27 of Set 7 | kruisfontein\n",
      "Processing Record 28 of Set 7 | puri\n",
      "Processing Record 29 of Set 7 | hofn\n",
      "Processing Record 30 of Set 7 | guangyuan\n",
      "Processing Record 31 of Set 7 | avera\n",
      "Processing Record 32 of Set 7 | cabo san lucas\n",
      "Processing Record 33 of Set 7 | zhezkazgan\n",
      "Processing Record 34 of Set 7 | sawang daen din\n",
      "Processing Record 35 of Set 7 | pisco\n",
      "Processing Record 36 of Set 7 | susangerd\n",
      "Processing Record 37 of Set 7 | anadyr\n",
      "Processing Record 38 of Set 7 | husavik\n",
      "Processing Record 39 of Set 7 | contai\n",
      "Processing Record 40 of Set 7 | hambantota\n",
      "Processing Record 41 of Set 7 | longlac\n",
      "City not found skipping\n",
      "Processing Record 42 of Set 7 | chagda\n",
      "City not found skipping\n",
      "Processing Record 43 of Set 7 | suzu\n",
      "City not found skipping\n",
      "Processing Record 44 of Set 7 | ponta do sol\n",
      "Processing Record 45 of Set 7 | nizhneyansk\n",
      "City not found skipping\n",
      "Processing Record 46 of Set 7 | acandi\n",
      "Processing Record 47 of Set 7 | mahon\n",
      "Processing Record 48 of Set 7 | bambous virieux\n",
      "Processing Record 49 of Set 7 | salekhard\n",
      "Processing Record 1 of Set 8 | harlingen\n",
      "Processing Record 2 of Set 8 | wasilla\n",
      "Processing Record 3 of Set 8 | zhanaozen\n",
      "Processing Record 4 of Set 8 | nanortalik\n",
      "Processing Record 5 of Set 8 | cayenne\n",
      "Processing Record 6 of Set 8 | kieta\n",
      "Processing Record 7 of Set 8 | lichuan\n",
      "Processing Record 8 of Set 8 | toppenish\n",
      "Processing Record 9 of Set 8 | faanui\n",
      "Processing Record 10 of Set 8 | kutum\n",
      "Processing Record 11 of Set 8 | hovd\n",
      "Processing Record 12 of Set 8 | kambove\n",
      "Processing Record 13 of Set 8 | poum\n",
      "Processing Record 14 of Set 8 | grand river south east\n",
      "City not found skipping\n",
      "Processing Record 15 of Set 8 | kuryk\n",
      "Processing Record 16 of Set 8 | dhulian\n",
      "Processing Record 17 of Set 8 | henties bay\n",
      "Processing Record 18 of Set 8 | tecoanapa\n",
      "Processing Record 19 of Set 8 | ippy\n",
      "Processing Record 20 of Set 8 | rantoul\n",
      "Processing Record 21 of Set 8 | ilulissat\n",
      "Processing Record 22 of Set 8 | aflu\n",
      "City not found skipping\n",
      "Processing Record 23 of Set 8 | ruidoso\n",
      "Processing Record 24 of Set 8 | port augusta\n",
      "Processing Record 25 of Set 8 | santa vitoria do palmar\n",
      "Processing Record 26 of Set 8 | jose bonifacio\n",
      "Processing Record 27 of Set 8 | kaoma\n",
      "Processing Record 28 of Set 8 | leningradskiy\n",
      "Processing Record 29 of Set 8 | buala\n",
      "Processing Record 30 of Set 8 | komsomolskiy\n",
      "Processing Record 31 of Set 8 | tiznit\n",
      "Processing Record 32 of Set 8 | castro\n",
      "Processing Record 33 of Set 8 | evensk\n",
      "Processing Record 34 of Set 8 | grande-riviere\n",
      "City not found skipping\n",
      "Processing Record 35 of Set 8 | vagay\n"
     ]
    },
    {
     "name": "stdout",
     "output_type": "stream",
     "text": [
      "Processing Record 36 of Set 8 | taltal\n",
      "Processing Record 37 of Set 8 | dali\n",
      "Processing Record 38 of Set 8 | amuntai\n",
      "Processing Record 39 of Set 8 | katherine\n",
      "Processing Record 40 of Set 8 | villa de reyes\n",
      "Processing Record 41 of Set 8 | santo angelo\n",
      "Processing Record 42 of Set 8 | tukrah\n",
      "Processing Record 43 of Set 8 | gaoual\n",
      "Processing Record 44 of Set 8 | erzurum\n",
      "Processing Record 45 of Set 8 | neijiang\n",
      "Processing Record 46 of Set 8 | baie-comeau\n",
      "Processing Record 47 of Set 8 | lamar\n",
      "Processing Record 48 of Set 8 | kovur\n",
      "Processing Record 49 of Set 8 | kudahuvadhoo\n",
      "Processing Record 1 of Set 9 | flin flon\n",
      "Processing Record 2 of Set 9 | keti bandar\n",
      "Processing Record 3 of Set 9 | nueve de julio\n",
      "Processing Record 4 of Set 9 | warqla\n",
      "City not found skipping\n",
      "Processing Record 5 of Set 9 | vanimo\n",
      "Processing Record 6 of Set 9 | korsakov\n",
      "Processing Record 7 of Set 9 | kalemie\n",
      "Processing Record 8 of Set 9 | sant julia de loria\n",
      "Processing Record 9 of Set 9 | suntar\n",
      "Processing Record 10 of Set 9 | fare\n",
      "Processing Record 11 of Set 9 | sao geraldo do araguaia\n",
      "Processing Record 12 of Set 9 | hinton\n",
      "Processing Record 13 of Set 9 | catabola\n",
      "Processing Record 14 of Set 9 | klaksvik\n",
      "Processing Record 15 of Set 9 | vitry-le-francois\n",
      "Processing Record 16 of Set 9 | san cristobal\n",
      "Processing Record 17 of Set 9 | karratha\n",
      "Processing Record 18 of Set 9 | mount gambier\n",
      "Processing Record 19 of Set 9 | narsaq\n",
      "Processing Record 20 of Set 9 | clyde river\n",
      "Processing Record 21 of Set 9 | aguachica\n",
      "Processing Record 22 of Set 9 | grand centre\n",
      "City not found skipping\n",
      "Processing Record 23 of Set 9 | deniliquin\n",
      "Processing Record 24 of Set 9 | shanghai\n",
      "Processing Record 25 of Set 9 | stralsund\n",
      "Processing Record 26 of Set 9 | kazalinsk\n",
      "City not found skipping\n",
      "Processing Record 27 of Set 9 | kamenka\n",
      "Processing Record 28 of Set 9 | galiwinku\n",
      "City not found skipping\n",
      "Processing Record 29 of Set 9 | saint anthony\n",
      "Processing Record 30 of Set 9 | deming\n",
      "Processing Record 31 of Set 9 | dharchula\n",
      "Processing Record 32 of Set 9 | comodoro rivadavia\n",
      "Processing Record 33 of Set 9 | severo-kurilsk\n",
      "Processing Record 34 of Set 9 | swan river\n",
      "Processing Record 35 of Set 9 | dingle\n",
      "Processing Record 36 of Set 9 | alta floresta\n",
      "Processing Record 37 of Set 9 | nerchinskiy zavod\n",
      "Processing Record 38 of Set 9 | cockburn town\n",
      "Processing Record 39 of Set 9 | northam\n",
      "Processing Record 40 of Set 9 | chicama\n",
      "Processing Record 41 of Set 9 | bentiu\n",
      "Processing Record 42 of Set 9 | palabuhanratu\n",
      "City not found skipping\n",
      "Processing Record 43 of Set 9 | champerico\n",
      "Processing Record 44 of Set 9 | laguna\n",
      "Processing Record 45 of Set 9 | yairipok\n",
      "Processing Record 46 of Set 9 | naze\n",
      "Processing Record 47 of Set 9 | westport\n",
      "Processing Record 48 of Set 9 | krasnovishersk\n",
      "Processing Record 49 of Set 9 | simplicio mendes\n",
      "Processing Record 1 of Set 10 | namatanai\n",
      "Processing Record 2 of Set 10 | ankazoabo\n",
      "Processing Record 3 of Set 10 | qaqortoq\n",
      "Processing Record 4 of Set 10 | sagar\n",
      "Processing Record 5 of Set 10 | troitsko-pechorsk\n",
      "Processing Record 6 of Set 10 | portland\n",
      "Processing Record 7 of Set 10 | akonolinga\n",
      "Processing Record 8 of Set 10 | potsdam\n",
      "Processing Record 9 of Set 10 | mandurah\n",
      "Processing Record 10 of Set 10 | bayir\n",
      "Processing Record 11 of Set 10 | tarnogskiy gorodok\n",
      "Processing Record 12 of Set 10 | mega\n",
      "Processing Record 13 of Set 10 | parakou\n",
      "Processing Record 14 of Set 10 | isla mujeres\n",
      "Processing Record 15 of Set 10 | lolua\n",
      "City not found skipping\n",
      "Processing Record 16 of Set 10 | jaen\n",
      "Processing Record 17 of Set 10 | wajir\n",
      "Processing Record 18 of Set 10 | port-cartier\n",
      "Processing Record 19 of Set 10 | broome\n",
      "Processing Record 20 of Set 10 | artyom\n",
      "Processing Record 21 of Set 10 | katsina\n",
      "Processing Record 22 of Set 10 | vostok\n",
      "Processing Record 23 of Set 10 | retz\n",
      "Processing Record 24 of Set 10 | darovskoy\n",
      "Processing Record 25 of Set 10 | lakes entrance\n",
      "Processing Record 26 of Set 10 | port macquarie\n",
      "Processing Record 27 of Set 10 | cam ranh\n",
      "Processing Record 28 of Set 10 | talcahuano\n",
      "Processing Record 29 of Set 10 | baoro\n",
      "Processing Record 30 of Set 10 | cabadiangan\n",
      "Processing Record 31 of Set 10 | palmer\n",
      "Processing Record 32 of Set 10 | najran\n",
      "Processing Record 33 of Set 10 | chuy\n",
      "Processing Record 34 of Set 10 | bonanza\n",
      "Processing Record 35 of Set 10 | nabire\n",
      "Processing Record 36 of Set 10 | san isidro\n",
      "Processing Record 37 of Set 10 | kozhevnikovo\n",
      "Processing Record 38 of Set 10 | te anau\n",
      "Processing Record 39 of Set 10 | yuzhnyy\n",
      "Processing Record 40 of Set 10 | chara\n",
      "Processing Record 41 of Set 10 | chany\n",
      "Processing Record 42 of Set 10 | juegang\n",
      "Processing Record 43 of Set 10 | pong\n",
      "Processing Record 44 of Set 10 | lumeje\n",
      "Processing Record 45 of Set 10 | pimentel\n",
      "Processing Record 46 of Set 10 | olginskaya\n",
      "Processing Record 47 of Set 10 | sorong\n",
      "Processing Record 48 of Set 10 | nanchang\n",
      "Processing Record 49 of Set 10 | aranos\n",
      "Processing Record 1 of Set 11 | jacmel\n",
      "Processing Record 2 of Set 11 | yarkovo\n",
      "Processing Record 3 of Set 11 | adrar\n",
      "Processing Record 4 of Set 11 | hanchuan\n",
      "Processing Record 5 of Set 11 | lucapa\n",
      "Processing Record 6 of Set 11 | meulaboh\n",
      "Processing Record 7 of Set 11 | saleaula\n",
      "City not found skipping\n",
      "Processing Record 8 of Set 11 | tiarei\n",
      "Processing Record 9 of Set 11 | sioux lookout\n",
      "Processing Record 10 of Set 11 | jiuquan\n",
      "Processing Record 11 of Set 11 | plastun\n",
      "Processing Record 12 of Set 11 | itoman\n",
      "Processing Record 13 of Set 11 | christchurch\n",
      "Processing Record 14 of Set 11 | shubarshi\n",
      "Processing Record 15 of Set 11 | manzhouli\n",
      "Processing Record 16 of Set 11 | rorvik\n",
      "Processing Record 17 of Set 11 | semiletka\n",
      "Processing Record 18 of Set 11 | safaga\n",
      "Processing Record 19 of Set 11 | sao gabriel da cachoeira\n",
      "Processing Record 20 of Set 11 | dukat\n",
      "Processing Record 21 of Set 11 | ust-tsilma\n",
      "Processing Record 22 of Set 11 | sydney\n",
      "Processing Record 23 of Set 11 | yulara\n",
      "Processing Record 24 of Set 11 | solnechnyy\n",
      "Processing Record 25 of Set 11 | gazli\n",
      "Processing Record 26 of Set 11 | talara\n",
      "Processing Record 27 of Set 11 | revda\n",
      "Processing Record 28 of Set 11 | skagastrond\n",
      "City not found skipping\n",
      "Processing Record 29 of Set 11 | hammelburg\n",
      "Processing Record 30 of Set 11 | bairiki\n",
      "Processing Record 31 of Set 11 | nuuk\n",
      "Processing Record 32 of Set 11 | vila franca do campo\n",
      "Processing Record 33 of Set 11 | boende\n",
      "Processing Record 34 of Set 11 | priyutnoye\n",
      "Processing Record 35 of Set 11 | inhambane\n",
      "Processing Record 36 of Set 11 | bolungarvik\n",
      "City not found skipping\n",
      "Processing Record 37 of Set 11 | hirara\n",
      "Processing Record 38 of Set 11 | altay\n",
      "Processing Record 39 of Set 11 | lyubytino\n",
      "Processing Record 40 of Set 11 | diu\n",
      "Processing Record 41 of Set 11 | borazjan\n",
      "Processing Record 42 of Set 11 | saint-pierre\n",
      "Processing Record 43 of Set 11 | sarankhola\n",
      "Processing Record 44 of Set 11 | mogadishu\n",
      "Processing Record 45 of Set 11 | puerto penasco\n",
      "Processing Record 46 of Set 11 | guymon\n",
      "Processing Record 47 of Set 11 | entebbe\n",
      "Processing Record 48 of Set 11 | bur gabo\n",
      "City not found skipping\n",
      "Processing Record 49 of Set 11 | burgersdorp\n",
      "Processing Record 1 of Set 12 | boa vista\n",
      "Processing Record 2 of Set 12 | les escoumins\n",
      "Processing Record 3 of Set 12 | fort-shevchenko\n",
      "Processing Record 4 of Set 12 | bagotville\n",
      "Processing Record 5 of Set 12 | peniche\n",
      "Processing Record 6 of Set 12 | eyl\n",
      "Processing Record 7 of Set 12 | moyo\n",
      "Processing Record 8 of Set 12 | igarka\n",
      "Processing Record 9 of Set 12 | vitimskiy\n",
      "City not found skipping\n",
      "Processing Record 10 of Set 12 | ugoofaaru\n",
      "Processing Record 11 of Set 12 | ancud\n",
      "Processing Record 12 of Set 12 | xapuri\n",
      "Processing Record 13 of Set 12 | bokoro\n",
      "Processing Record 14 of Set 12 | salalah\n",
      "Processing Record 15 of Set 12 | adre\n",
      "Processing Record 16 of Set 12 | tilichiki\n",
      "Processing Record 17 of Set 12 | ous\n",
      "Processing Record 18 of Set 12 | tabiauea\n",
      "City not found skipping\n",
      "Processing Record 19 of Set 12 | macenta\n",
      "Processing Record 20 of Set 12 | corbu\n",
      "Processing Record 21 of Set 12 | saint-denis\n",
      "Processing Record 22 of Set 12 | port-gentil\n",
      "Processing Record 23 of Set 12 | aktash\n",
      "Processing Record 24 of Set 12 | assiniboia\n",
      "Processing Record 25 of Set 12 | ambanja\n",
      "Processing Record 26 of Set 12 | coahuayana\n",
      "Processing Record 27 of Set 12 | kavaratti\n",
      "Processing Record 28 of Set 12 | altamont\n"
     ]
    },
    {
     "name": "stdout",
     "output_type": "stream",
     "text": [
      "Processing Record 29 of Set 12 | achisay\n",
      "City not found skipping\n",
      "Processing Record 30 of Set 12 | faya\n",
      "Processing Record 31 of Set 12 | kazachinskoye\n",
      "Processing Record 32 of Set 12 | whitehorse\n",
      "Processing Record 33 of Set 12 | puerto del rosario\n",
      "Processing Record 34 of Set 12 | west wendover\n",
      "Processing Record 35 of Set 12 | hervey bay\n",
      "Processing Record 36 of Set 12 | angoche\n",
      "Processing Record 37 of Set 12 | sokyryany\n",
      "Processing Record 38 of Set 12 | santiago tuxtla\n",
      "Processing Record 39 of Set 12 | nishihara\n",
      "Processing Record 40 of Set 12 | kananga\n",
      "Processing Record 41 of Set 12 | armacao dos buzios\n",
      "City not found skipping\n",
      "Processing Record 42 of Set 12 | tikrit\n",
      "Processing Record 43 of Set 12 | havoysund\n",
      "Processing Record 44 of Set 12 | kurilsk\n",
      "Processing Record 45 of Set 12 | tevaitoa\n",
      "Processing Record 46 of Set 12 | ihosy\n",
      "Processing Record 47 of Set 12 | arlit\n",
      "Processing Record 48 of Set 12 | gwadar\n",
      "Processing Record 49 of Set 12 | egvekinot\n",
      "Processing Record 1 of Set 13 | marquette\n",
      "Processing Record 2 of Set 13 | makakilo city\n",
      "Processing Record 3 of Set 13 | nanakuli\n",
      "Processing Record 4 of Set 13 | udachnyy\n",
      "Processing Record 5 of Set 13 | turukhansk\n",
      "Processing Record 6 of Set 13 | sandpoint\n",
      "Processing Record 7 of Set 13 | estelle\n",
      "Processing Record 8 of Set 13 | kysyl-syr\n",
      "Processing Record 9 of Set 13 | fez\n",
      "Processing Record 10 of Set 13 | beira\n",
      "Processing Record 11 of Set 13 | evanston\n",
      "Processing Record 12 of Set 13 | chitral\n",
      "Processing Record 13 of Set 13 | innisfail\n",
      "Processing Record 14 of Set 13 | play cu\n",
      "City not found skipping\n",
      "Processing Record 15 of Set 13 | hohhot\n",
      "Processing Record 16 of Set 13 | olinda\n",
      "Processing Record 17 of Set 13 | melfi\n",
      "Processing Record 18 of Set 13 | tortoli\n",
      "Processing Record 19 of Set 13 | yumen\n",
      "Processing Record 20 of Set 13 | progreso\n",
      "Processing Record 21 of Set 13 | marawi\n",
      "Processing Record 22 of Set 13 | san quintin\n",
      "Processing Record 23 of Set 13 | moba\n",
      "Processing Record 24 of Set 13 | buqayq\n",
      "City not found skipping\n",
      "Processing Record 25 of Set 13 | pallipattu\n",
      "Processing Record 26 of Set 13 | resplendor\n",
      "Processing Record 27 of Set 13 | fort collins\n",
      "Processing Record 28 of Set 13 | grong\n",
      "Processing Record 29 of Set 13 | zhireken\n",
      "Processing Record 30 of Set 13 | carutapera\n"
     ]
    }
   ],
   "source": [
    "lon=[]\n",
    "lat=[]\n",
    "max_t=[]\n",
    "hum=[]\n",
    "cloud=[]\n",
    "wind_s=[]\n",
    "country=[]\n",
    "date=[]\n",
    "cities2=[]\n",
    "\n",
    "count1=1\n",
    "count2=1\n",
    "\n",
    "print('Beginning Data Retrieval')\n",
    "print('_'*20)\n",
    "\n",
    "for city in cities:\n",
    "    \n",
    "    if count1%50==0:\n",
    "        time.sleep(55)\n",
    "        count2=count2+1\n",
    "        count1=1\n",
    "\n",
    "    url=f\" http://api.openweathermap.org/data/2.5/weather?q={city}&appid={weather_api_key}\"\n",
    "    try:\n",
    "        result=requests.get(url).json()\n",
    "\n",
    "        print(f'Processing Record {count1} of Set {count2} | {city}')       \n",
    "        \n",
    "        count1=count1+1\n",
    "        \n",
    "        cities2.append(result['name'])\n",
    "        lat.append(result['coord']['lat'])\n",
    "        lon.append(result['coord']['lon'])\n",
    "        max_t.append(result['main']['temp_max'])\n",
    "        hum.append(result['main']['humidity'])\n",
    "        cloud.append(result['clouds']['all'])\n",
    "        wind_s.append(result['wind']['speed'])\n",
    "        country.append(result['sys']['country'])\n",
    "        date.append(result['dt'])\n",
    "    except:\n",
    "        print('City not found skipping')\n"
   ]
  },
  {
   "cell_type": "markdown",
   "metadata": {},
   "source": [
    "### Convert Raw Data to DataFrame\n",
    "* Export the city data into a .csv.\n",
    "* Display the DataFrame"
   ]
  },
  {
   "cell_type": "code",
   "execution_count": 28,
   "metadata": {},
   "outputs": [],
   "source": [
    "data=pd.DataFrame({\n",
    " 'City':cities2,\n",
    " 'Lat':lat,\n",
    " 'Lng':lon,\n",
    " 'Max Temp':max_t,\n",
    "'Humidity':hum,\n",
    "'Cloudiness':cloud,\n",
    "'Wind Speed':wind_s,\n",
    "'Country':country,\n",
    "'Date':date})"
   ]
  },
  {
   "cell_type": "code",
   "execution_count": 29,
   "metadata": {},
   "outputs": [
    {
     "data": {
      "text/html": [
       "<div>\n",
       "<style scoped>\n",
       "    .dataframe tbody tr th:only-of-type {\n",
       "        vertical-align: middle;\n",
       "    }\n",
       "\n",
       "    .dataframe tbody tr th {\n",
       "        vertical-align: top;\n",
       "    }\n",
       "\n",
       "    .dataframe thead th {\n",
       "        text-align: right;\n",
       "    }\n",
       "</style>\n",
       "<table border=\"1\" class=\"dataframe\">\n",
       "  <thead>\n",
       "    <tr style=\"text-align: right;\">\n",
       "      <th></th>\n",
       "      <th>City</th>\n",
       "      <th>Lat</th>\n",
       "      <th>Lng</th>\n",
       "      <th>Max Temp</th>\n",
       "      <th>Humidity</th>\n",
       "      <th>Cloudiness</th>\n",
       "      <th>Wind Speed</th>\n",
       "      <th>Country</th>\n",
       "      <th>Date</th>\n",
       "    </tr>\n",
       "  </thead>\n",
       "  <tbody>\n",
       "    <tr>\n",
       "      <th>0</th>\n",
       "      <td>Albany</td>\n",
       "      <td>42.6001</td>\n",
       "      <td>-73.9662</td>\n",
       "      <td>266.48</td>\n",
       "      <td>43</td>\n",
       "      <td>100</td>\n",
       "      <td>1.28</td>\n",
       "      <td>US</td>\n",
       "      <td>1613276137</td>\n",
       "    </tr>\n",
       "    <tr>\n",
       "      <th>1</th>\n",
       "      <td>Sinnamary</td>\n",
       "      <td>5.3833</td>\n",
       "      <td>-52.9500</td>\n",
       "      <td>298.53</td>\n",
       "      <td>83</td>\n",
       "      <td>95</td>\n",
       "      <td>6.88</td>\n",
       "      <td>GF</td>\n",
       "      <td>1613276137</td>\n",
       "    </tr>\n",
       "    <tr>\n",
       "      <th>2</th>\n",
       "      <td>Rosário Oeste</td>\n",
       "      <td>-14.8361</td>\n",
       "      <td>-56.4275</td>\n",
       "      <td>295.71</td>\n",
       "      <td>91</td>\n",
       "      <td>98</td>\n",
       "      <td>1.65</td>\n",
       "      <td>BR</td>\n",
       "      <td>1613276137</td>\n",
       "    </tr>\n",
       "    <tr>\n",
       "      <th>3</th>\n",
       "      <td>Port Lincoln</td>\n",
       "      <td>-34.7333</td>\n",
       "      <td>135.8667</td>\n",
       "      <td>292.42</td>\n",
       "      <td>61</td>\n",
       "      <td>72</td>\n",
       "      <td>6.23</td>\n",
       "      <td>AU</td>\n",
       "      <td>1613276138</td>\n",
       "    </tr>\n",
       "    <tr>\n",
       "      <th>4</th>\n",
       "      <td>Ulladulla</td>\n",
       "      <td>-35.3500</td>\n",
       "      <td>150.4667</td>\n",
       "      <td>296.15</td>\n",
       "      <td>60</td>\n",
       "      <td>40</td>\n",
       "      <td>6.69</td>\n",
       "      <td>AU</td>\n",
       "      <td>1613276138</td>\n",
       "    </tr>\n",
       "  </tbody>\n",
       "</table>\n",
       "</div>"
      ],
      "text/plain": [
       "            City      Lat       Lng  Max Temp  Humidity  Cloudiness  \\\n",
       "0         Albany  42.6001  -73.9662    266.48        43         100   \n",
       "1      Sinnamary   5.3833  -52.9500    298.53        83          95   \n",
       "2  Rosário Oeste -14.8361  -56.4275    295.71        91          98   \n",
       "3   Port Lincoln -34.7333  135.8667    292.42        61          72   \n",
       "4      Ulladulla -35.3500  150.4667    296.15        60          40   \n",
       "\n",
       "   Wind Speed Country        Date  \n",
       "0        1.28      US  1613276137  \n",
       "1        6.88      GF  1613276137  \n",
       "2        1.65      BR  1613276137  \n",
       "3        6.23      AU  1613276138  \n",
       "4        6.69      AU  1613276138  "
      ]
     },
     "execution_count": 29,
     "metadata": {},
     "output_type": "execute_result"
    }
   ],
   "source": [
    "data.head()"
   ]
  },
  {
   "cell_type": "code",
   "execution_count": 30,
   "metadata": {},
   "outputs": [],
   "source": [
    "data.to_csv(output_data_file,index=False)"
   ]
  },
  {
   "cell_type": "markdown",
   "metadata": {},
   "source": [
    "## Inspect the data and remove the cities where the humidity > 100%.\n",
    "----\n",
    "Skip this step if there are no cities that have humidity > 100%. "
   ]
  },
  {
   "cell_type": "code",
   "execution_count": 31,
   "metadata": {},
   "outputs": [
    {
     "data": {
      "text/html": [
       "<div>\n",
       "<style scoped>\n",
       "    .dataframe tbody tr th:only-of-type {\n",
       "        vertical-align: middle;\n",
       "    }\n",
       "\n",
       "    .dataframe tbody tr th {\n",
       "        vertical-align: top;\n",
       "    }\n",
       "\n",
       "    .dataframe thead th {\n",
       "        text-align: right;\n",
       "    }\n",
       "</style>\n",
       "<table border=\"1\" class=\"dataframe\">\n",
       "  <thead>\n",
       "    <tr style=\"text-align: right;\">\n",
       "      <th></th>\n",
       "      <th>Lat</th>\n",
       "      <th>Lng</th>\n",
       "      <th>Max Temp</th>\n",
       "      <th>Humidity</th>\n",
       "      <th>Cloudiness</th>\n",
       "      <th>Wind Speed</th>\n",
       "      <th>Date</th>\n",
       "    </tr>\n",
       "  </thead>\n",
       "  <tbody>\n",
       "    <tr>\n",
       "      <th>count</th>\n",
       "      <td>565.000000</td>\n",
       "      <td>565.000000</td>\n",
       "      <td>565.000000</td>\n",
       "      <td>565.000000</td>\n",
       "      <td>565.000000</td>\n",
       "      <td>565.000000</td>\n",
       "      <td>5.650000e+02</td>\n",
       "    </tr>\n",
       "    <tr>\n",
       "      <th>mean</th>\n",
       "      <td>20.177882</td>\n",
       "      <td>18.714371</td>\n",
       "      <td>282.695628</td>\n",
       "      <td>73.530973</td>\n",
       "      <td>54.594690</td>\n",
       "      <td>3.561062</td>\n",
       "      <td>1.613277e+09</td>\n",
       "    </tr>\n",
       "    <tr>\n",
       "      <th>std</th>\n",
       "      <td>32.293185</td>\n",
       "      <td>90.800127</td>\n",
       "      <td>17.962316</td>\n",
       "      <td>18.626923</td>\n",
       "      <td>40.055462</td>\n",
       "      <td>2.569422</td>\n",
       "      <td>2.641113e+02</td>\n",
       "    </tr>\n",
       "    <tr>\n",
       "      <th>min</th>\n",
       "      <td>-54.800000</td>\n",
       "      <td>-179.166700</td>\n",
       "      <td>235.970000</td>\n",
       "      <td>18.000000</td>\n",
       "      <td>0.000000</td>\n",
       "      <td>0.440000</td>\n",
       "      <td>1.613276e+09</td>\n",
       "    </tr>\n",
       "    <tr>\n",
       "      <th>25%</th>\n",
       "      <td>-5.089200</td>\n",
       "      <td>-63.057800</td>\n",
       "      <td>270.260000</td>\n",
       "      <td>65.000000</td>\n",
       "      <td>8.000000</td>\n",
       "      <td>1.570000</td>\n",
       "      <td>1.613276e+09</td>\n",
       "    </tr>\n",
       "    <tr>\n",
       "      <th>50%</th>\n",
       "      <td>24.687700</td>\n",
       "      <td>25.993100</td>\n",
       "      <td>289.820000</td>\n",
       "      <td>78.000000</td>\n",
       "      <td>69.000000</td>\n",
       "      <td>3.090000</td>\n",
       "      <td>1.613277e+09</td>\n",
       "    </tr>\n",
       "    <tr>\n",
       "      <th>75%</th>\n",
       "      <td>45.523400</td>\n",
       "      <td>98.517400</td>\n",
       "      <td>297.040000</td>\n",
       "      <td>88.000000</td>\n",
       "      <td>93.000000</td>\n",
       "      <td>4.920000</td>\n",
       "      <td>1.613277e+09</td>\n",
       "    </tr>\n",
       "    <tr>\n",
       "      <th>max</th>\n",
       "      <td>78.218600</td>\n",
       "      <td>178.416700</td>\n",
       "      <td>308.150000</td>\n",
       "      <td>100.000000</td>\n",
       "      <td>100.000000</td>\n",
       "      <td>19.550000</td>\n",
       "      <td>1.613277e+09</td>\n",
       "    </tr>\n",
       "  </tbody>\n",
       "</table>\n",
       "</div>"
      ],
      "text/plain": [
       "              Lat         Lng    Max Temp    Humidity  Cloudiness  Wind Speed  \\\n",
       "count  565.000000  565.000000  565.000000  565.000000  565.000000  565.000000   \n",
       "mean    20.177882   18.714371  282.695628   73.530973   54.594690    3.561062   \n",
       "std     32.293185   90.800127   17.962316   18.626923   40.055462    2.569422   \n",
       "min    -54.800000 -179.166700  235.970000   18.000000    0.000000    0.440000   \n",
       "25%     -5.089200  -63.057800  270.260000   65.000000    8.000000    1.570000   \n",
       "50%     24.687700   25.993100  289.820000   78.000000   69.000000    3.090000   \n",
       "75%     45.523400   98.517400  297.040000   88.000000   93.000000    4.920000   \n",
       "max     78.218600  178.416700  308.150000  100.000000  100.000000   19.550000   \n",
       "\n",
       "               Date  \n",
       "count  5.650000e+02  \n",
       "mean   1.613277e+09  \n",
       "std    2.641113e+02  \n",
       "min    1.613276e+09  \n",
       "25%    1.613276e+09  \n",
       "50%    1.613277e+09  \n",
       "75%    1.613277e+09  \n",
       "max    1.613277e+09  "
      ]
     },
     "execution_count": 31,
     "metadata": {},
     "output_type": "execute_result"
    }
   ],
   "source": [
    "data.describe(percentiles=[.25,.5,.75])"
   ]
  },
  {
   "cell_type": "code",
   "execution_count": 32,
   "metadata": {},
   "outputs": [],
   "source": [
    "#  Get the indices of cities that have humidity over 100%.\n",
    "cl=data['Humidity']<100"
   ]
  },
  {
   "cell_type": "code",
   "execution_count": 33,
   "metadata": {},
   "outputs": [],
   "source": [
    "# Make a new DataFrame equal to the city data to drop all humidity outliers by index.\n",
    "# Passing \"inplace=False\" will make a copy of the city_data DataFrame, which we call \"clean_city_data\".\n",
    "data=data[cl]"
   ]
  },
  {
   "cell_type": "code",
   "execution_count": 34,
   "metadata": {},
   "outputs": [
    {
     "data": {
      "text/html": [
       "<div>\n",
       "<style scoped>\n",
       "    .dataframe tbody tr th:only-of-type {\n",
       "        vertical-align: middle;\n",
       "    }\n",
       "\n",
       "    .dataframe tbody tr th {\n",
       "        vertical-align: top;\n",
       "    }\n",
       "\n",
       "    .dataframe thead th {\n",
       "        text-align: right;\n",
       "    }\n",
       "</style>\n",
       "<table border=\"1\" class=\"dataframe\">\n",
       "  <thead>\n",
       "    <tr style=\"text-align: right;\">\n",
       "      <th></th>\n",
       "      <th>City</th>\n",
       "      <th>Lat</th>\n",
       "      <th>Lng</th>\n",
       "      <th>Max Temp</th>\n",
       "      <th>Humidity</th>\n",
       "      <th>Cloudiness</th>\n",
       "      <th>Wind Speed</th>\n",
       "      <th>Country</th>\n",
       "      <th>Date</th>\n",
       "    </tr>\n",
       "  </thead>\n",
       "  <tbody>\n",
       "    <tr>\n",
       "      <th>0</th>\n",
       "      <td>Albany</td>\n",
       "      <td>42.6001</td>\n",
       "      <td>-73.9662</td>\n",
       "      <td>266.48</td>\n",
       "      <td>43</td>\n",
       "      <td>100</td>\n",
       "      <td>1.28</td>\n",
       "      <td>US</td>\n",
       "      <td>1613276137</td>\n",
       "    </tr>\n",
       "    <tr>\n",
       "      <th>1</th>\n",
       "      <td>Sinnamary</td>\n",
       "      <td>5.3833</td>\n",
       "      <td>-52.9500</td>\n",
       "      <td>298.53</td>\n",
       "      <td>83</td>\n",
       "      <td>95</td>\n",
       "      <td>6.88</td>\n",
       "      <td>GF</td>\n",
       "      <td>1613276137</td>\n",
       "    </tr>\n",
       "    <tr>\n",
       "      <th>2</th>\n",
       "      <td>Rosário Oeste</td>\n",
       "      <td>-14.8361</td>\n",
       "      <td>-56.4275</td>\n",
       "      <td>295.71</td>\n",
       "      <td>91</td>\n",
       "      <td>98</td>\n",
       "      <td>1.65</td>\n",
       "      <td>BR</td>\n",
       "      <td>1613276137</td>\n",
       "    </tr>\n",
       "    <tr>\n",
       "      <th>3</th>\n",
       "      <td>Port Lincoln</td>\n",
       "      <td>-34.7333</td>\n",
       "      <td>135.8667</td>\n",
       "      <td>292.42</td>\n",
       "      <td>61</td>\n",
       "      <td>72</td>\n",
       "      <td>6.23</td>\n",
       "      <td>AU</td>\n",
       "      <td>1613276138</td>\n",
       "    </tr>\n",
       "    <tr>\n",
       "      <th>4</th>\n",
       "      <td>Ulladulla</td>\n",
       "      <td>-35.3500</td>\n",
       "      <td>150.4667</td>\n",
       "      <td>296.15</td>\n",
       "      <td>60</td>\n",
       "      <td>40</td>\n",
       "      <td>6.69</td>\n",
       "      <td>AU</td>\n",
       "      <td>1613276138</td>\n",
       "    </tr>\n",
       "  </tbody>\n",
       "</table>\n",
       "</div>"
      ],
      "text/plain": [
       "            City      Lat       Lng  Max Temp  Humidity  Cloudiness  \\\n",
       "0         Albany  42.6001  -73.9662    266.48        43         100   \n",
       "1      Sinnamary   5.3833  -52.9500    298.53        83          95   \n",
       "2  Rosário Oeste -14.8361  -56.4275    295.71        91          98   \n",
       "3   Port Lincoln -34.7333  135.8667    292.42        61          72   \n",
       "4      Ulladulla -35.3500  150.4667    296.15        60          40   \n",
       "\n",
       "   Wind Speed Country        Date  \n",
       "0        1.28      US  1613276137  \n",
       "1        6.88      GF  1613276137  \n",
       "2        1.65      BR  1613276137  \n",
       "3        6.23      AU  1613276138  \n",
       "4        6.69      AU  1613276138  "
      ]
     },
     "execution_count": 34,
     "metadata": {},
     "output_type": "execute_result"
    }
   ],
   "source": [
    "data.head()"
   ]
  },
  {
   "cell_type": "markdown",
   "metadata": {},
   "source": [
    "## Plotting the Data\n",
    "* Use proper labeling of the plots using plot titles (including date of analysis) and axes labels.\n",
    "* Save the plotted figures as .pngs."
   ]
  },
  {
   "cell_type": "markdown",
   "metadata": {},
   "source": [
    "## Latitude vs. Temperature Plot"
   ]
  },
  {
   "cell_type": "code",
   "execution_count": 13,
   "metadata": {},
   "outputs": [
    {
     "data": {
      "text/plain": [
       "['Lat',\n",
       " 'Lng',\n",
       " 'Max Temp',\n",
       " 'Humidity',\n",
       " 'Cloudiness',\n",
       " 'Wind Speed',\n",
       " 'Country',\n",
       " 'Date']"
      ]
     },
     "execution_count": 13,
     "metadata": {},
     "output_type": "execute_result"
    }
   ],
   "source": [
    "list(data)"
   ]
  },
  {
   "cell_type": "code",
   "execution_count": 38,
   "metadata": {
    "scrolled": true
   },
   "outputs": [
    {
     "data": {
      "image/png": "[encoded data removed]",
      "text/plain": [
       "<Figure size 432x288 with 1 Axes>"
      ]
     },
     "metadata": {
      "needs_background": "light"
     },
     "output_type": "display_data"
    }
   ],
   "source": [
    "%matplotlib inline\n",
    "plt.scatter(data['Lat'],data['Max Temp'])\n",
    "plt.xlabel('City Latitude')\n",
    "plt.ylabel('Max Temerature')\n",
    "plt.title(f'City Latitude vs. Max Temerature (02/13/21)')\n",
    "plt.show()"
   ]
  },
  {
   "cell_type": "markdown",
   "metadata": {},
   "source": [
    "## Latitude vs. Humidity Plot"
   ]
  },
  {
   "cell_type": "code",
   "execution_count": 39,
   "metadata": {},
   "outputs": [
    {
     "data": {
      "image/png": "[encoded data removed]",
      "text/plain": [
       "<Figure size 432x288 with 1 Axes>"
      ]
     },
     "metadata": {
      "needs_background": "light"
     },
     "output_type": "display_data"
    }
   ],
   "source": [
    "plt.scatter(data['Lat'],data['Humidity'])\n",
    "plt.xlabel('City Latitude')\n",
    "plt.ylabel('Humidity')\n",
    "plt.title(f'City Latitude vs. Humidity (02/13/21)')\n",
    "plt.show()"
   ]
  },
  {
   "cell_type": "markdown",
   "metadata": {},
   "source": [
    "## Latitude vs. Cloudiness Plot"
   ]
  },
  {
   "cell_type": "code",
   "execution_count": 40,
   "metadata": {},
   "outputs": [
    {
     "data": {
      "image/png": "[encoded data removed]",
      "text/plain": [
       "<Figure size 432x288 with 1 Axes>"
      ]
     },
     "metadata": {
      "needs_background": "light"
     },
     "output_type": "display_data"
    }
   ],
   "source": [
    "plt.scatter(data['Lat'],data['Cloudiness'])\n",
    "plt.xlabel('City Latitude')\n",
    "plt.ylabel('Cloudiness')\n",
    "plt.title(f'City Latitude vs. Cloudiness (02/13/21)')\n",
    "plt.show()"
   ]
  },
  {
   "cell_type": "markdown",
   "metadata": {},
   "source": [
    "## Latitude vs. Wind Speed Plot"
   ]
  },
  {
   "cell_type": "code",
   "execution_count": 41,
   "metadata": {},
   "outputs": [
    {
     "data": {
      "image/png": "[encoded data removed]",
      "text/plain": [
       "<Figure size 432x288 with 1 Axes>"
      ]
     },
     "metadata": {
      "needs_background": "light"
     },
     "output_type": "display_data"
    }
   ],
   "source": [
    "plt.scatter(data['Lat'],data['Wind Speed'])\n",
    "plt.xlabel('City Latitude')\n",
    "plt.ylabel('Wind Speed')\n",
    "plt.title(f'City Latitude vs. Wind Speed (02/13/21)')\n",
    "plt.show()"
   ]
  },
  {
   "cell_type": "markdown",
   "metadata": {},
   "source": [
    "## Linear Regression"
   ]
  },
  {
   "cell_type": "markdown",
   "metadata": {},
   "source": [
    "####  Northern Hemisphere - Max Temp vs. Latitude Linear Regression"
   ]
  },
  {
   "cell_type": "code",
   "execution_count": 46,
   "metadata": {},
   "outputs": [],
   "source": [
    "y='Max Temp'\n",
    "\n",
    "cl=data['Lat']>0\n",
    "\n",
    "y_values=data[y][cl]\n",
    "\n",
    "x_values=data['Lat'][cl]"
   ]
  },
  {
   "cell_type": "code",
   "execution_count": 48,
   "metadata": {},
   "outputs": [
    {
     "name": "stdout",
     "output_type": "stream",
     "text": [
      "R squared: 0.7491134927927836\n"
     ]
    },
    {
     "data": {
      "image/png": "[encoded data removed]",
      "text/plain": [
       "<Figure size 432x288 with 1 Axes>"
      ]
     },
     "metadata": {
      "needs_background": "light"
     },
     "output_type": "display_data"
    }
   ],
   "source": [
    "(slope, intercept, rvalue, pvalue, stderr) = linregress(x_values, y_values)\n",
    "regress_values = x_values * slope + intercept\n",
    "line_eq = \"y = \" + str(round(slope,2)) + \"x + \" + str(round(intercept,2))\n",
    "\n",
    "# Plot scatter plot\n",
    "plt.scatter(x_values,y_values)\n",
    "\n",
    "# Plot regression line\n",
    "plt.plot(x_values,regress_values,\"r-\")\n",
    "plt.annotate(line_eq,(10,240),fontsize=15,color=\"red\")\n",
    "\n",
    "# Label plot\n",
    "plt.title('Latitude vs. '+y)\n",
    "plt.xlabel('Latitude')\n",
    "plt.ylabel(y)\n",
    "\n",
    "# Print r square value\n",
    "print(f\"R squared: {rvalue**2}\")\n",
    "\n",
    "# Show plot\n",
    "plt.show()"
   ]
  },
  {
   "cell_type": "markdown",
   "metadata": {},
   "source": [
    "####  Southern Hemisphere - Max Temp vs. Latitude Linear Regression"
   ]
  },
  {
   "cell_type": "code",
   "execution_count": 51,
   "metadata": {},
   "outputs": [
    {
     "name": "stdout",
     "output_type": "stream",
     "text": [
      "R squared: 0.23504931755584074\n"
     ]
    },
    {
     "data": {
      "image/png": "[encoded data removed]",
      "text/plain": [
       "<Figure size 432x288 with 1 Axes>"
      ]
     },
     "metadata": {
      "needs_background": "light"
     },
     "output_type": "display_data"
    }
   ],
   "source": [
    "y='Max Temp'\n",
    "\n",
    "cl=data['Lat']<0\n",
    "\n",
    "y_values=data[y][cl]\n",
    "\n",
    "x_values=data['Lat'][cl]\n",
    "\n",
    "\n",
    "(slope, intercept, rvalue, pvalue, stderr) = linregress(x_values, y_values)\n",
    "regress_values = x_values * slope + intercept\n",
    "line_eq = \"y = \" + str(round(slope,2)) + \"x + \" + str(round(intercept,2))\n",
    "\n",
    "# Plot scatter plot\n",
    "plt.scatter(x_values,y_values)\n",
    "\n",
    "# Plot regression line\n",
    "plt.plot(x_values,regress_values,\"r-\")\n",
    "plt.annotate(line_eq,(-50,280),fontsize=15,color=\"red\")\n",
    "\n",
    "# Label plot\n",
    "plt.title('Latitude vs. '+y)\n",
    "plt.xlabel('Latitude')\n",
    "plt.ylabel(y)\n",
    "\n",
    "# Print r square value\n",
    "print(f\"R squared: {rvalue**2}\")\n",
    "\n",
    "# Show plot\n",
    "plt.show()"
   ]
  },
  {
   "cell_type": "markdown",
   "metadata": {},
   "source": [
    "####  Northern Hemisphere - Humidity (%) vs. Latitude Linear Regression"
   ]
  },
  {
   "cell_type": "code",
   "execution_count": 54,
   "metadata": {},
   "outputs": [
    {
     "name": "stdout",
     "output_type": "stream",
     "text": [
      "R squared: 0.15852259768962002\n"
     ]
    },
    {
     "data": {
      "image/png": "[encoded data removed]",
      "text/plain": [
       "<Figure size 432x288 with 1 Axes>"
      ]
     },
     "metadata": {
      "needs_background": "light"
     },
     "output_type": "display_data"
    }
   ],
   "source": [
    "y='Humidity'\n",
    "\n",
    "cl=data['Lat']>0\n",
    "\n",
    "y_values=data[y][cl]\n",
    "\n",
    "x_values=data['Lat'][cl]\n",
    "\n",
    "\n",
    "(slope, intercept, rvalue, pvalue, stderr) = linregress(x_values, y_values)\n",
    "regress_values = x_values * slope + intercept\n",
    "line_eq = \"y = \" + str(round(slope,2)) + \"x + \" + str(round(intercept,2))\n",
    "\n",
    "# Plot scatter plot\n",
    "plt.scatter(x_values,y_values)\n",
    "\n",
    "# Plot regression line\n",
    "plt.plot(x_values,regress_values,\"r-\")\n",
    "plt.annotate(line_eq,(50,20),fontsize=15,color=\"red\")\n",
    "\n",
    "# Label plot\n",
    "plt.title('Latitude vs. '+y)\n",
    "plt.xlabel('Latitude')\n",
    "plt.ylabel(y)\n",
    "\n",
    "# Print r square value\n",
    "print(f\"R squared: {rvalue**2}\")\n",
    "\n",
    "# Show plot\n",
    "plt.show()"
   ]
  },
  {
   "cell_type": "markdown",
   "metadata": {},
   "source": [
    "####  Southern Hemisphere - Humidity (%) vs. Latitude Linear Regression"
   ]
  },
  {
   "cell_type": "code",
   "execution_count": 28,
   "metadata": {},
   "outputs": [
    {
     "name": "stdout",
     "output_type": "stream",
     "text": [
      "The r-value is: 0.014985174297345524\n"
     ]
    },
    {
     "data": {
      "image/png": "[encoded data removed]",
      "text/plain": [
       "<Figure size 432x288 with 1 Axes>"
      ]
     },
     "metadata": {
      "needs_background": "light"
     },
     "output_type": "display_data"
    }
   ],
   "source": [
    "y='Humidity'\n",
    "\n",
    "cl=data['Lat']<0\n",
    "\n",
    "y_values=data[y][cl]\n",
    "\n",
    "x_values=data['Lat'][cl]\n",
    "\n",
    "\n",
    "(slope, intercept, rvalue, pvalue, stderr) = linregress(x_values, y_values)\n",
    "regress_values = x_values * slope + intercept\n",
    "line_eq = \"y = \" + str(round(slope,2)) + \"x + \" + str(round(intercept,2))\n",
    "\n",
    "# Plot scatter plot\n",
    "plt.scatter(x_values,y_values)\n",
    "\n",
    "# Plot regression line\n",
    "plt.plot(x_values,regress_values,\"r-\")\n",
    "plt.annotate(line_eq,(-50,280),fontsize=15,color=\"red\")\n",
    "\n",
    "# Label plot\n",
    "plt.title('Latitude vs. '+y)\n",
    "plt.xlabel('Latitude')\n",
    "plt.ylabel(y)\n",
    "\n",
    "# Print r square value\n",
    "print(f\"R squared: {rvalue**2}\")\n",
    "\n",
    "# Show plot\n",
    "plt.show()"
   ]
  },
  {
   "cell_type": "markdown",
   "metadata": {},
   "source": [
    "####  Northern Hemisphere - Cloudiness (%) vs. Latitude Linear Regression"
   ]
  },
  {
   "cell_type": "code",
   "execution_count": 56,
   "metadata": {},
   "outputs": [
    {
     "name": "stdout",
     "output_type": "stream",
     "text": [
      "R squared: 0.09057435514209104\n"
     ]
    },
    {
     "data": {
      "image/png": "[encoded data removed]",
      "text/plain": [
       "<Figure size 432x288 with 1 Axes>"
      ]
     },
     "metadata": {
      "needs_background": "light"
     },
     "output_type": "display_data"
    }
   ],
   "source": [
    "y='Cloudiness'\n",
    "\n",
    "cl=data['Lat']>0\n",
    "\n",
    "y_values=data[y][cl]\n",
    "\n",
    "x_values=data['Lat'][cl]\n",
    "\n",
    "\n",
    "(slope, intercept, rvalue, pvalue, stderr) = linregress(x_values, y_values)\n",
    "regress_values = x_values * slope + intercept\n",
    "line_eq = \"y = \" + str(round(slope,2)) + \"x + \" + str(round(intercept,2))\n",
    "\n",
    "# Plot scatter plot\n",
    "plt.scatter(x_values,y_values)\n",
    "\n",
    "# Plot regression line\n",
    "plt.plot(x_values,regress_values,\"r-\")\n",
    "plt.annotate(line_eq,(50,20),fontsize=15,color=\"red\")\n",
    "\n",
    "# Label plot\n",
    "plt.title('Latitude vs. '+y)\n",
    "plt.xlabel('Latitude')\n",
    "plt.ylabel(y)\n",
    "\n",
    "# Print r square value\n",
    "print(f\"R squared: {rvalue**2}\")\n",
    "\n",
    "# Show plot\n",
    "plt.show()"
   ]
  },
  {
   "cell_type": "markdown",
   "metadata": {},
   "source": [
    "####  Southern Hemisphere - Cloudiness (%) vs. Latitude Linear Regression"
   ]
  },
  {
   "cell_type": "code",
   "execution_count": 58,
   "metadata": {},
   "outputs": [
    {
     "name": "stdout",
     "output_type": "stream",
     "text": [
      "R squared: 0.10101089366828966\n"
     ]
    },
    {
     "data": {
      "image/png": "[encoded data removed]",
      "text/plain": [
       "<Figure size 432x288 with 1 Axes>"
      ]
     },
     "metadata": {
      "needs_background": "light"
     },
     "output_type": "display_data"
    }
   ],
   "source": [
    "y='Cloudiness'\n",
    "\n",
    "cl=data['Lat']<0\n",
    "\n",
    "y_values=data[y][cl]\n",
    "\n",
    "x_values=data['Lat'][cl]\n",
    "\n",
    "\n",
    "(slope, intercept, rvalue, pvalue, stderr) = linregress(x_values, y_values)\n",
    "regress_values = x_values * slope + intercept\n",
    "line_eq = \"y = \" + str(round(slope,2)) + \"x + \" + str(round(intercept,2))\n",
    "\n",
    "# Plot scatter plot\n",
    "plt.scatter(x_values,y_values)\n",
    "\n",
    "# Plot regression line\n",
    "plt.plot(x_values,regress_values,\"r-\")\n",
    "plt.annotate(line_eq,(-50,30),fontsize=15,color=\"red\")\n",
    "\n",
    "# Label plot\n",
    "plt.title('Latitude vs. '+y)\n",
    "plt.xlabel('Latitude')\n",
    "plt.ylabel(y)\n",
    "\n",
    "# Print r square value\n",
    "print(f\"R squared: {rvalue**2}\")\n",
    "\n",
    "# Show plot\n",
    "plt.show()"
   ]
  },
  {
   "cell_type": "markdown",
   "metadata": {},
   "source": [
    "####  Northern Hemisphere - Wind Speed (mph) vs. Latitude Linear Regression"
   ]
  },
  {
   "cell_type": "code",
   "execution_count": 60,
   "metadata": {},
   "outputs": [
    {
     "name": "stdout",
     "output_type": "stream",
     "text": [
      "R squared: 0.014176682516165606\n"
     ]
    },
    {
     "data": {
      "image/png": "[encoded data removed]",
      "text/plain": [
       "<Figure size 432x288 with 1 Axes>"
      ]
     },
     "metadata": {
      "needs_background": "light"
     },
     "output_type": "display_data"
    }
   ],
   "source": [
    "y='Wind Speed'\n",
    "\n",
    "cl=data['Lat']>0\n",
    "\n",
    "y_values=data[y][cl]\n",
    "\n",
    "x_values=data['Lat'][cl]\n",
    "\n",
    "\n",
    "(slope, intercept, rvalue, pvalue, stderr) = linregress(x_values, y_values)\n",
    "regress_values = x_values * slope + intercept\n",
    "line_eq = \"y = \" + str(round(slope,2)) + \"x + \" + str(round(intercept,2))\n",
    "\n",
    "# Plot scatter plot\n",
    "plt.scatter(x_values,y_values)\n",
    "\n",
    "# Plot regression line\n",
    "plt.plot(x_values,regress_values,\"r-\")\n",
    "plt.annotate(line_eq,(15,10),fontsize=15,color=\"red\")\n",
    "\n",
    "# Label plot\n",
    "plt.title('Latitude vs. '+y)\n",
    "plt.xlabel('Latitude')\n",
    "plt.ylabel(y)\n",
    "\n",
    "# Print r square value\n",
    "print(f\"R squared: {rvalue**2}\")\n",
    "\n",
    "# Show plot\n",
    "plt.show()"
   ]
  },
  {
   "cell_type": "markdown",
   "metadata": {},
   "source": [
    "####  Southern Hemisphere - Wind Speed (mph) vs. Latitude Linear Regression"
   ]
  },
  {
   "cell_type": "code",
   "execution_count": 61,
   "metadata": {},
   "outputs": [
    {
     "name": "stdout",
     "output_type": "stream",
     "text": [
      "R squared: 0.024457171045339034\n"
     ]
    },
    {
     "data": {
      "image/png": "[encoded data removed]",
      "text/plain": [
       "<Figure size 432x288 with 1 Axes>"
      ]
     },
     "metadata": {
      "needs_background": "light"
     },
     "output_type": "display_data"
    }
   ],
   "source": [
    "y='Wind Speed'\n",
    "\n",
    "cl=data['Lat']<0\n",
    "\n",
    "y_values=data[y][cl]\n",
    "\n",
    "x_values=data['Lat'][cl]\n",
    "\n",
    "\n",
    "(slope, intercept, rvalue, pvalue, stderr) = linregress(x_values, y_values)\n",
    "regress_values = x_values * slope + intercept\n",
    "line_eq = \"y = \" + str(round(slope,2)) + \"x + \" + str(round(intercept,2))\n",
    "\n",
    "# Plot scatter plot\n",
    "plt.scatter(x_values,y_values)\n",
    "\n",
    "# Plot regression line\n",
    "plt.plot(x_values,regress_values,\"r-\")\n",
    "plt.annotate(line_eq,(15,10),fontsize=15,color=\"red\")\n",
    "\n",
    "# Label plot\n",
    "plt.title('Latitude vs. '+y)\n",
    "plt.xlabel('Latitude')\n",
    "plt.ylabel(y)\n",
    "\n",
    "# Print r square value\n",
    "print(f\"R squared: {rvalue**2}\")\n",
    "\n",
    "# Show plot\n",
    "plt.show()"
   ]
  }
 ],
 "metadata": {
  "anaconda-cloud": {},
  "kernel_info": {
   "name": "python3"
  },
  "kernelspec": {
   "display_name": "Python 3",
   "language": "python",
   "name": "python3"
  },
  "language_info": {
   "codemirror_mode": {
    "name": "ipython",
    "version": 3
   },
   "file_extension": ".py",
   "mimetype": "text/x-python",
   "name": "python",
   "nbconvert_exporter": "python",
   "pygments_lexer": "ipython3",
   "version": "3.8.5"
  },
  "latex_envs": {
   "LaTeX_envs_menu_present": true,
   "autoclose": false,
   "autocomplete": true,
   "bibliofile": "biblio.bib",
   "cite_by": "apalike",
   "current_citInitial": 1,
   "eqLabelWithNumbers": true,
   "eqNumInitial": 1,
   "hotkeys": {
    "equation": "Ctrl-E",
    "itemize": "Ctrl-I"
   },
   "labels_anchors": false,
   "latex_user_defs": false,
   "report_style_numbering": false,
   "user_envs_cfg": false
  },
  "nteract": {
   "version": "0.12.3"
  }
 },
 "nbformat": 4,
 "nbformat_minor": 2
}
